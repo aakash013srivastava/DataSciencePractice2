{
 "cells": [
  {
   "cell_type": "markdown",
   "metadata": {},
   "source": [
    "DATA ANALYSIS FOR EMPLOYEE DATASET"
   ]
  },
  {
   "cell_type": "code",
   "execution_count": 1,
   "metadata": {},
   "outputs": [],
   "source": [
    "import pandas as pd\n",
    "import numpy as np\n",
    "import matplotlib.pyplot as plt\n",
    "import seaborn as sns"
   ]
  },
  {
   "cell_type": "code",
   "execution_count": 3,
   "metadata": {},
   "outputs": [
    {
     "name": "stdout",
     "output_type": "stream",
     "text": [
      "Index(['EEID', 'Full Name', 'Job Title', 'Department', 'Business Unit',\n",
      "       'Gender', 'Ethnicity', 'Age', 'Hire Date', 'Annual Salary', 'Bonus %',\n",
      "       'Country', 'City', 'Exit Date'],\n",
      "      dtype='object')\n"
     ]
    }
   ],
   "source": [
    "df = pd.read_excel('./Employee+Sample+Data/EmployeeSampleData.xlsx')\n",
    "print(df.columns)"
   ]
  },
  {
   "cell_type": "markdown",
   "metadata": {},
   "source": [
    "1. PRINT COUNT OF  EMPLOYEES"
   ]
  },
  {
   "cell_type": "code",
   "execution_count": 7,
   "metadata": {},
   "outputs": [
    {
     "name": "stdout",
     "output_type": "stream",
     "text": [
      "911\n"
     ]
    }
   ],
   "source": [
    "print(len(df['EEID'].unique()))"
   ]
  },
  {
   "cell_type": "markdown",
   "metadata": {},
   "source": [
    "2. PRINT SENIOR MANAGER NAME OF EVERY DEPARTMENT"
   ]
  },
  {
   "cell_type": "code",
   "execution_count": 31,
   "metadata": {},
   "outputs": [
    {
     "name": "stdout",
     "output_type": "stream",
     "text": [
      "       EEID       Full Name   Job Title       Department  \\\n",
      "0    E02387     Emily Davis  Sr. Manger               IT   \n",
      "10   E00591    Savannah Ali  Sr. Manger  Human Resources   \n",
      "13   E04239    Everleigh Ng  Sr. Manger          Finance   \n",
      "17   E00884    Camila Silva  Sr. Manger        Marketing   \n",
      "20   E03680  Elias Alvarado  Sr. Manger               IT   \n",
      "..      ...             ...         ...              ...   \n",
      "950  E02888    Elijah Ramos  Sr. Manger               IT   \n",
      "956  E03168         Nora Le  Sr. Manger               IT   \n",
      "971  E03778         Luke Vu  Sr. Manger        Marketing   \n",
      "985  E00156   Madelyn Scott  Sr. Manger               IT   \n",
      "990  E01578    Anthony Hong  Sr. Manger               IT   \n",
      "\n",
      "              Business Unit  Gender  Ethnicity  Age  Hire Date  Annual Salary  \\\n",
      "0    Research & Development  Female      Black   55 2016-04-08         141604   \n",
      "10            Manufacturing  Female      Asian   36 2009-02-11         157333   \n",
      "13   Research & Development  Female      Asian   51 2021-06-10         146742   \n",
      "17      Speciality Products  Female     Latino   64 2003-12-01         154828   \n",
      "20            Manufacturing    Male     Latino   56 2012-01-09         146140   \n",
      "..                      ...     ...        ...  ...        ...            ...   \n",
      "950     Speciality Products    Male     Latino   33 2012-12-24         132544   \n",
      "956           Manufacturing  Female      Asian   53 1997-04-12         154388   \n",
      "971     Speciality Products    Male      Asian   52 2018-06-04         154884   \n",
      "985  Research & Development  Female  Caucasian   46 2002-01-09         148035   \n",
      "990  Research & Development    Male      Asian   37 2010-11-29         146961   \n",
      "\n",
      "     Bonus %        Country            City  Exit Date  \n",
      "0       0.15  United States         Seattle 2021-10-16  \n",
      "10      0.15  United States           Miami        NaT  \n",
      "13      0.10          China        Shanghai        NaT  \n",
      "17      0.13  United States         Seattle        NaT  \n",
      "20      0.10         Brazil          Manaus        NaT  \n",
      "..       ...            ...             ...        ...  \n",
      "950     0.10         Brazil  Rio de Janerio        NaT  \n",
      "956     0.10  United States         Seattle        NaT  \n",
      "971     0.10          China        Shanghai        NaT  \n",
      "985     0.14  United States         Phoenix        NaT  \n",
      "990     0.11  United States        Columbus        NaT  \n",
      "\n",
      "[110 rows x 14 columns]\n"
     ]
    }
   ],
   "source": [
    "print(df.loc[df['Job Title'].isin(['Sr. Manger'])])"
   ]
  },
  {
   "cell_type": "markdown",
   "metadata": {},
   "source": [
    "3. PRINT FIRST NAME,JOB TITLE OF EMPLOYEES FROM EACH DEPARTMENT ANNUAL SALARY MORE THAN $50,000"
   ]
  },
  {
   "cell_type": "code",
   "execution_count": 46,
   "metadata": {},
   "outputs": [
    {
     "name": "stdout",
     "output_type": "stream",
     "text": [
      "             Full Name                 Job Title\n",
      "0          Emily Davis                Sr. Manger\n",
      "1        Theodore Dinh       Technical Architect\n",
      "2         Luna Sanders                  Director\n",
      "3      Penelope Jordan  Computer Systems Manager\n",
      "4            Austin Vo               Sr. Analyst\n",
      "..                 ...                       ...\n",
      "993  Audrey Richardson                  Director\n",
      "995       Wesley Young               Sr. Analyst\n",
      "997        Oliver Yang                  Director\n",
      "998        Lily Nguyen               Sr. Analyst\n",
      "999        Sofia Cheng            Vice President\n",
      "\n",
      "[948 rows x 2 columns]\n"
     ]
    }
   ],
   "source": [
    "print(df[['Full Name','Job Title']].loc[df['Annual Salary']>50000])"
   ]
  },
  {
   "cell_type": "markdown",
   "metadata": {},
   "source": [
    "4. PRINT MAX SALARY FOR EACH JOB TITLE"
   ]
  },
  {
   "cell_type": "code",
   "execution_count": 48,
   "metadata": {},
   "outputs": [
    {
     "name": "stdout",
     "output_type": "stream",
     "text": [
      "                                       Full Name  Annual Salary\n",
      "Job Title                                                      \n",
      "Account Representative              Xavier Zheng          73004\n",
      "Analyst                          Valentina Davis          58703\n",
      "Analyst II                                Zoe Do          74655\n",
      "Automation Engineer             Stella Alexander         115854\n",
      "Business Partner                    Zoey Jackson          59067\n",
      "Cloud Infrastructure Architect      Sofia Parker          99774\n",
      "Computer Systems Manager             Wyatt Rojas          99557\n",
      "Controls Engineer                   Theodore Ngo         124827\n",
      "Development Engineer            Theodore Marquez          99091\n",
      "Director                           Zoe Rodriguez         199848\n",
      "Engineering Manager             Wesley Dominguez         116878\n",
      "Enterprise Architect                Sophia Huynh          99575\n",
      "Field Engineer                    William Foster          97398\n",
      "HRIS Analyst                    Sebastian Rogers          73854\n",
      "IT Coordinator                     Miles Salazar          57446\n",
      "IT Systems Architect               Silas Estrada          96567\n",
      "Manager                                 Zoe Zhou         129708\n",
      "Network Administrator             Madison Hunter          92321\n",
      "Network Architect                     Zoe Romero          96566\n",
      "Network Engineer                       Sophie Oh          97537\n",
      "Operations Engineer                   Sofia Dinh         123588\n",
      "Quality Engineer                     Vivian Thao          98581\n",
      "Service Desk Analyst              Robert Alvarez          95963\n",
      "Solutions Architect                  Violet Hall          97807\n",
      "Sr. Account Representative            Vivian Chu          96719\n",
      "Sr. Analyst                          Zoe Sanchez          99697\n",
      "Sr. Business Partner                 Skylar Doan          95998\n",
      "Sr. Manger                       Vivian Espinoza         159885\n",
      "System Administrator                Wesley Adams          96548\n",
      "Systems Analyst                   Scarlett Kumar          59888\n",
      "Technical Architect                Theodore Dinh          99975\n",
      "Test Engineer                     Samantha Adams          96757\n",
      "Vice President                       Xavier Park         258498\n"
     ]
    }
   ],
   "source": [
    "print(df[['Full Name','Job Title','Annual Salary']].groupby('Job Title').max())"
   ]
  },
  {
   "cell_type": "markdown",
   "metadata": {},
   "source": [
    "5. PRINT DEPARTMENT WISE TOTAL EMPLOYEE COUNT IN DESCENDING ORDER"
   ]
  },
  {
   "cell_type": "code",
   "execution_count": 58,
   "metadata": {},
   "outputs": [
    {
     "name": "stdout",
     "output_type": "stream",
     "text": [
      "                 EEID\n",
      "Department           \n",
      "IT                241\n",
      "Engineering       158\n",
      "Sales             140\n",
      "Human Resources   125\n",
      "Finance           120\n",
      "Marketing         120\n",
      "Accounting         96\n"
     ]
    }
   ],
   "source": [
    "\n",
    "print(df[['EEID','Department']].groupby('Department').count().sort_values(by='EEID',ascending=False))"
   ]
  }
 ],
 "metadata": {
  "kernelspec": {
   "display_name": "Python 3.10.6 64-bit",
   "language": "python",
   "name": "python3"
  },
  "language_info": {
   "codemirror_mode": {
    "name": "ipython",
    "version": 3
   },
   "file_extension": ".py",
   "mimetype": "text/x-python",
   "name": "python",
   "nbconvert_exporter": "python",
   "pygments_lexer": "ipython3",
   "version": "3.10.6"
  },
  "orig_nbformat": 4,
  "vscode": {
   "interpreter": {
    "hash": "916dbcbb3f70747c44a77c7bcd40155683ae19c65e1c03b4aa3499c5328201f1"
   }
  }
 },
 "nbformat": 4,
 "nbformat_minor": 2
}
