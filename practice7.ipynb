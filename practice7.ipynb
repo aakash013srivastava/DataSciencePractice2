{
 "cells": [
  {
   "cell_type": "code",
   "execution_count": 1,
   "metadata": {},
   "outputs": [],
   "source": [
    "import pandas as pd\n",
    "import seaborn as sns"
   ]
  },
  {
   "cell_type": "code",
   "execution_count": 2,
   "metadata": {},
   "outputs": [
    {
     "name": "stdout",
     "output_type": "stream",
     "text": [
      "<bound method DataFrame.info of        EEID        Full Name                 Job Title  Department  \\\n",
      "0    E02387      Emily Davis                Sr. Manger          IT   \n",
      "1    E04105    Theodore Dinh       Technical Architect          IT   \n",
      "2    E02572     Luna Sanders                  Director     Finance   \n",
      "3    E02832  Penelope Jordan  Computer Systems Manager          IT   \n",
      "4    E01639        Austin Vo               Sr. Analyst     Finance   \n",
      "..      ...              ...                       ...         ...   \n",
      "995  E03094     Wesley Young               Sr. Analyst   Marketing   \n",
      "996  E01909     Lillian Khan                   Analyst     Finance   \n",
      "997  E04398      Oliver Yang                  Director   Marketing   \n",
      "998  E02521      Lily Nguyen               Sr. Analyst     Finance   \n",
      "999  E03545      Sofia Cheng            Vice President  Accounting   \n",
      "\n",
      "              Business Unit  Gender  Ethnicity  Age  Hire Date  Annual Salary  \\\n",
      "0    Research & Development  Female      Black   55 2016-04-08         141604   \n",
      "1             Manufacturing    Male      Asian   59 1997-11-29          99975   \n",
      "2       Speciality Products  Female  Caucasian   50 2006-10-26         163099   \n",
      "3             Manufacturing  Female  Caucasian   26 2019-09-27          84913   \n",
      "4             Manufacturing    Male      Asian   55 1995-11-20          95409   \n",
      "..                      ...     ...        ...  ...        ...            ...   \n",
      "995     Speciality Products    Male  Caucasian   33 2016-09-18          98427   \n",
      "996     Speciality Products  Female      Asian   44 2010-05-31          47387   \n",
      "997     Speciality Products    Male      Asian   31 2019-06-10         176710   \n",
      "998     Speciality Products  Female      Asian   33 2012-01-28          95960   \n",
      "999               Corporate  Female      Asian   63 2020-07-26         216195   \n",
      "\n",
      "     Bonus %        Country       City  Exit Date  \n",
      "0       0.15  United States    Seattle 2021-10-16  \n",
      "1       0.00          China  Chongqing        NaT  \n",
      "2       0.20  United States    Chicago        NaT  \n",
      "3       0.07  United States    Chicago        NaT  \n",
      "4       0.00  United States    Phoenix        NaT  \n",
      "..       ...            ...        ...        ...  \n",
      "995     0.00  United States   Columbus        NaT  \n",
      "996     0.00          China    Chengdu 2018-01-08  \n",
      "997     0.15  United States      Miami        NaT  \n",
      "998     0.00          China    Chengdu        NaT  \n",
      "999     0.31  United States      Miami        NaT  \n",
      "\n",
      "[1000 rows x 14 columns]>\n"
     ]
    }
   ],
   "source": [
    "df = pd.read_excel('EmployeeSampleData.xlsx')\n",
    "print(df.info)"
   ]
  },
  {
   "cell_type": "markdown",
   "metadata": {},
   "source": [
    "1. PRINT YEAR WISE HIRING COUNT"
   ]
  },
  {
   "cell_type": "code",
   "execution_count": null,
   "metadata": {},
   "outputs": [
    {
     "name": "stdout",
     "output_type": "stream",
     "text": [
      "    hire year  Count\n",
      "0        1992     11\n",
      "1        1993      3\n",
      "2        1994     13\n",
      "3        1995      9\n",
      "4        1996     10\n",
      "5        1997     12\n",
      "6        1998     16\n",
      "7        1999     14\n",
      "8        2000     14\n",
      "9        2001     17\n",
      "10       2002     23\n",
      "11       2003     19\n",
      "12       2004     29\n",
      "13       2005     27\n",
      "14       2006     30\n",
      "15       2007     33\n",
      "16       2008     25\n",
      "17       2009     29\n",
      "18       2010     42\n",
      "19       2011     39\n",
      "20       2012     37\n",
      "21       2013     39\n",
      "22       2014     52\n",
      "23       2015     47\n",
      "24       2016     52\n",
      "25       2017     70\n",
      "26       2018     68\n",
      "27       2019     68\n",
      "28       2020     66\n",
      "29       2021     86\n"
     ]
    }
   ],
   "source": [
    "df['hire year'] = df['Hire Date'].apply(lambda x:x.year)\n",
    "print(df[['hire year']].groupby('hire year')['hire year'].count().reset_index(name='Count'))"
   ]
  },
  {
   "cell_type": "markdown",
   "metadata": {},
   "source": [
    "Plot showing hiring trend over 10 year period bins"
   ]
  },
  {
   "cell_type": "code",
   "execution_count": null,
   "metadata": {},
   "outputs": [
    {
     "data": {
      "text/plain": [
       "<AxesSubplot:xlabel='hire year', ylabel='Count'>"
      ]
     },
     "execution_count": 21,
     "metadata": {},
     "output_type": "execute_result"
    },
    {
     "data": {
      "image/png": "[encoded data removed]",
      "text/plain": [
       "<Figure size 432x288 with 1 Axes>"
      ]
     },
     "metadata": {
      "needs_background": "light"
     },
     "output_type": "display_data"
    }
   ],
   "source": [
    "sns.histplot(bins=10,data=df,x='hire year')"
   ]
  },
  {
   "cell_type": "markdown",
   "metadata": {},
   "source": [
    "2. PRINT AND PLOT AGE WISE MAX SALARY TREND"
   ]
  },
  {
   "cell_type": "code",
   "execution_count": null,
   "metadata": {},
   "outputs": [
    {
     "name": "stdout",
     "output_type": "stream",
     "text": [
      "    Age  Max Salary\n",
      "0    25      210708\n",
      "1    26      256561\n",
      "2    27      256420\n",
      "3    28      250767\n",
      "4    29      199783\n",
      "5    30      255431\n",
      "6    31      250953\n",
      "7    32      203445\n",
      "8    33      258426\n",
      "9    34      220937\n",
      "10   35      245482\n",
      "11   36      253294\n",
      "12   37      225558\n",
      "13   38      255230\n",
      "14   39      254057\n",
      "15   40      242919\n",
      "16   41      257194\n",
      "17   42      186725\n",
      "18   43      258498\n",
      "19   44      207172\n",
      "20   45      249801\n",
      "21   46      173629\n",
      "22   47      253249\n",
      "23   48      258081\n",
      "24   49      211291\n",
      "25   50      247939\n",
      "26   51      247874\n",
      "27   52      236314\n",
      "28   53      198473\n",
      "29   54      247022\n",
      "30   55      221465\n",
      "31   56      228822\n",
      "32   57      246589\n",
      "33   58      199848\n",
      "34   59      246619\n",
      "35   60      234311\n",
      "36   61      201464\n",
      "37   62      234594\n",
      "38   63      254289\n",
      "39   64      252325\n",
      "40   65      175837\n"
     ]
    }
   ],
   "source": [
    "df2 = df[['Age','Annual Salary','EEID']].groupby('Age')['Annual Salary'].max().reset_index(name='Max Salary')\n",
    "print(df2)"
   ]
  },
  {
   "cell_type": "code",
   "execution_count": null,
   "metadata": {},
   "outputs": [
    {
     "data": {
      "text/plain": [
       "<AxesSubplot:xlabel='Age', ylabel='Max Salary'>"
      ]
     },
     "execution_count": 44,
     "metadata": {},
     "output_type": "execute_result"
    },
    {
     "data": {
      "image/png": "[encoded data removed]",
      "text/plain": [
       "<Figure size 432x288 with 1 Axes>"
      ]
     },
     "metadata": {
      "needs_background": "light"
     },
     "output_type": "display_data"
    }
   ],
   "source": [
    "sns.scatterplot(data=df2,x='Age',y='Max Salary')"
   ]
  },
  {
   "cell_type": "markdown",
   "metadata": {},
   "source": [
    "3. PRINT/PLOT DEPARTMENT WISE RESOURCE/EMPLOYEE DEPLOYMENT COUNT "
   ]
  },
  {
   "cell_type": "code",
   "execution_count": null,
   "metadata": {},
   "outputs": [
    {
     "name": "stdout",
     "output_type": "stream",
     "text": [
      "        Department  Employee Count\n",
      "0       Accounting              96\n",
      "1      Engineering             158\n",
      "2          Finance             120\n",
      "3  Human Resources             125\n",
      "4               IT             241\n",
      "5        Marketing             120\n",
      "6            Sales             140\n"
     ]
    }
   ],
   "source": [
    "df3 = df[['Department','EEID']].groupby('Department')['EEID'].count().reset_index(name=\"Employee Count\")\n",
    "print(df3)"
   ]
  },
  {
   "cell_type": "code",
   "execution_count": null,
   "metadata": {},
   "outputs": [
    {
     "data": {
      "text/plain": [
       "<AxesSubplot:xlabel='Department', ylabel='Employee Count'>"
      ]
     },
     "execution_count": 50,
     "metadata": {},
     "output_type": "execute_result"
    },
    {
     "data": {
      "image/png": "[encoded data removed]",
      "text/plain": [
       "<Figure size 432x288 with 1 Axes>"
      ]
     },
     "metadata": {
      "needs_background": "light"
     },
     "output_type": "display_data"
    }
   ],
   "source": [
    "sns.barplot(data=df3,x='Department',y='Employee Count')"
   ]
  },
  {
   "cell_type": "markdown",
   "metadata": {},
   "source": [
    "4.PRINT THE REGRESSION PLOT OF THE SALARIES WITH YEAR"
   ]
  },
  {
   "cell_type": "code",
   "execution_count": 6,
   "metadata": {},
   "outputs": [
    {
     "data": {
      "text/plain": [
       "<seaborn.axisgrid.FacetGrid at 0x7f825b585420>"
      ]
     },
     "execution_count": 6,
     "metadata": {},
     "output_type": "execute_result"
    },
    {
     "data": {
      "image/png": "[encoded data removed]",
      "text/plain": [
       "<Figure size 360x360 with 1 Axes>"
      ]
     },
     "metadata": {
      "needs_background": "light"
     },
     "output_type": "display_data"
    }
   ],
   "source": [
    "df['hire year'] = df['Hire Date'].apply(lambda x:x.year)\n",
    "df4 = df[['Annual Salary','hire year']].groupby('hire year')['Annual Salary'].max().reset_index(name='Max Salary')\n",
    "# print(df4)\n",
    "sns.lmplot(data=df4,x='hire year',y='Max Salary')"
   ]
  },
  {
   "cell_type": "markdown",
   "metadata": {},
   "source": [
    "5. PRINT/PLOT COUNTRY-WISE REPRESENTATION OF THE CANDIDATES"
   ]
  },
  {
   "cell_type": "code",
   "execution_count": 26,
   "metadata": {},
   "outputs": [
    {
     "name": "stdout",
     "output_type": "stream",
     "text": [
      "         Country  Total\n",
      "0         Brazil    139\n",
      "1          China    218\n",
      "2  United States    643\n"
     ]
    }
   ],
   "source": [
    "df5 = df[['Country','EEID']].groupby('Country')['EEID'].count().reset_index(name='Total')\n",
    "df5['Total'].transform(lambda x:x/x.sum())\n",
    "\n",
    "print(df5)"
   ]
  },
  {
   "cell_type": "code",
   "execution_count": 27,
   "metadata": {},
   "outputs": [
    {
     "data": {
      "text/plain": [
       "<AxesSubplot:xlabel='Country', ylabel='Total'>"
      ]
     },
     "execution_count": 27,
     "metadata": {},
     "output_type": "execute_result"
    },
    {
     "data": {
      "image/png": "[encoded data removed]",
      "text/plain": [
       "<Figure size 640x480 with 1 Axes>"
      ]
     },
     "metadata": {},
     "output_type": "display_data"
    }
   ],
   "source": [
    "sns.barplot(data=df5,x='Country',y='Total')"
   ]
  }
 ],
 "metadata": {
  "kernelspec": {
   "display_name": "Python 3.10.6 64-bit",
   "language": "python",
   "name": "python3"
  },
  "language_info": {
   "codemirror_mode": {
    "name": "ipython",
    "version": 3
   },
   "file_extension": ".py",
   "mimetype": "text/x-python",
   "name": "python",
   "nbconvert_exporter": "python",
   "pygments_lexer": "ipython3",
   "version": "3.10.6"
  },
  "orig_nbformat": 4,
  "vscode": {
   "interpreter": {
    "hash": "916dbcbb3f70747c44a77c7bcd40155683ae19c65e1c03b4aa3499c5328201f1"
   }
  }
 },
 "nbformat": 4,
 "nbformat_minor": 2
}
