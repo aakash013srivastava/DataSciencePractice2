{
 "cells": [
  {
   "cell_type": "markdown",
   "metadata": {},
   "source": []
  },
  {
   "cell_type": "code",
   "execution_count": 21,
   "metadata": {},
   "outputs": [],
   "source": [
    "import pandas as pd\n",
    "import seaborn as sns\n",
    "import datetime\n",
    "import time"
   ]
  },
  {
   "cell_type": "code",
   "execution_count": 3,
   "metadata": {},
   "outputs": [
    {
     "name": "stdout",
     "output_type": "stream",
     "text": [
      "     EEID        Full Name                 Job Title Department  \\\n",
      "0  E02387      Emily Davis                Sr. Manger         IT   \n",
      "1  E04105    Theodore Dinh       Technical Architect         IT   \n",
      "2  E02572     Luna Sanders                  Director    Finance   \n",
      "3  E02832  Penelope Jordan  Computer Systems Manager         IT   \n",
      "4  E01639        Austin Vo               Sr. Analyst    Finance   \n",
      "\n",
      "            Business Unit  Gender  Ethnicity  Age  Hire Date  Annual Salary  \\\n",
      "0  Research & Development  Female      Black   55 2016-04-08         141604   \n",
      "1           Manufacturing    Male      Asian   59 1997-11-29          99975   \n",
      "2     Speciality Products  Female  Caucasian   50 2006-10-26         163099   \n",
      "3           Manufacturing  Female  Caucasian   26 2019-09-27          84913   \n",
      "4           Manufacturing    Male      Asian   55 1995-11-20          95409   \n",
      "\n",
      "   Bonus %        Country       City  Exit Date  \n",
      "0     0.15  United States    Seattle 2021-10-16  \n",
      "1     0.00          China  Chongqing        NaT  \n",
      "2     0.20  United States    Chicago        NaT  \n",
      "3     0.07  United States    Chicago        NaT  \n",
      "4     0.00  United States    Phoenix        NaT  \n"
     ]
    }
   ],
   "source": [
    "# Create a Dataframe\n",
    "df = pd.read_excel('EmployeeSampleData.xlsx')\n",
    "# print(df.head())"
   ]
  },
  {
   "cell_type": "markdown",
   "metadata": {},
   "source": [
    "1. DISPLAY ASIAN FEMALES WITH MORE THAN 100K SALARY"
   ]
  },
  {
   "cell_type": "code",
   "execution_count": 47,
   "metadata": {},
   "outputs": [
    {
     "name": "stdout",
     "output_type": "stream",
     "text": [
      "     Annual Salary  Gender Ethnicity\n",
      "10          157333  Female     Asian\n",
      "13          146742  Female     Asian\n",
      "15          249270  Female     Asian\n",
      "52          125633  Female     Asian\n",
      "54          178700  Female     Asian\n",
      "..             ...     ...       ...\n",
      "976         124827  Female     Asian\n",
      "980         114893  Female     Asian\n",
      "982         246589  Female     Asian\n",
      "984         150666  Female     Asian\n",
      "999         216195  Female     Asian\n",
      "\n",
      "[97 rows x 3 columns]\n"
     ]
    }
   ],
   "source": [
    "\n",
    "condition = (df['Gender']=='Female') & (df['Ethnicity']=='Asian') & (df['Annual Salary']>100000)\n",
    "print(df[['Annual Salary','Gender','Ethnicity']].loc[condition])"
   ]
  },
  {
   "cell_type": "markdown",
   "metadata": {},
   "source": [
    "2. EMPLOYEES WITH A MIDDLE NAME IN THE IT DEPARTMENT"
   ]
  },
  {
   "cell_type": "code",
   "execution_count": 53,
   "metadata": {},
   "outputs": [
    {
     "name": "stdout",
     "output_type": "stream",
     "text": [
      "358    Santiago f Gonzalez\n",
      "471      Santiago f Brooks\n",
      "833        Santiago f Gray\n",
      "857        Santiago f Moua\n",
      "Name: Full Name, dtype: object\n"
     ]
    }
   ],
   "source": [
    "df['Full Name Words'] = df['Full Name'].apply(lambda x:len(x.split()))\n",
    "condition = df['Full Name Words']>2\n",
    "print(df['Full Name'].loc[condition])"
   ]
  },
  {
   "cell_type": "markdown",
   "metadata": {},
   "source": [
    "3. PRINT PEOPLE OUTSIDE US GETTING BONUS"
   ]
  },
  {
   "cell_type": "code",
   "execution_count": 56,
   "metadata": {},
   "outputs": [
    {
     "name": "stdout",
     "output_type": "stream",
     "text": [
      "          Full Name Country  Bonus %\n",
      "13     Everleigh Ng   China     0.10\n",
      "19        Adam Dang   China     0.18\n",
      "20   Elias Alvarado  Brazil     0.10\n",
      "22     Logan Rivera  Brazil     0.28\n",
      "24        Mateo Her   China     0.31\n",
      "..              ...     ...      ...\n",
      "967        John Cho   China     0.21\n",
      "971         Luke Vu   China     0.10\n",
      "980    Hannah Hoang   China     0.06\n",
      "983     Austin Vang   China     0.09\n",
      "984       Maria Sun   China     0.23\n",
      "\n",
      "[171 rows x 3 columns]\n"
     ]
    }
   ],
   "source": [
    "condition = (df['Country']!= 'United States') & (df['Bonus %'] > 0)\n",
    "print(df[['Full Name','Country','Bonus %']].loc[condition])"
   ]
  },
  {
   "cell_type": "markdown",
   "metadata": {},
   "source": [
    "4. PRINT EMPLOYEES WITH 6 FIGURE SALARY AND NO BONUS"
   ]
  },
  {
   "cell_type": "code",
   "execution_count": 62,
   "metadata": {},
   "outputs": [
    {
     "name": "stdout",
     "output_type": "stream",
     "text": [
      "11        Camila Rogers\n",
      "56     Stella Alexander\n",
      "108       Andrew Thomas\n",
      "215         Jose Molina\n",
      "422        Andrew Moore\n",
      "529     Kinsley Collins\n",
      "627          Ian Barnes\n",
      "732        Abigail Vang\n",
      "773           Avery Sun\n",
      "783          Henry Jung\n",
      "805       Addison Perez\n",
      "852       Grayson James\n",
      "882       Clara Sanchez\n",
      "915           Ivy Desai\n",
      "976           Maya Chan\n",
      "Name: Full Name, dtype: object\n"
     ]
    }
   ],
   "source": [
    "condition = (df['Annual Salary']>100000) & (df['Bonus %'] == 0)\n",
    "print(df['Full Name'].loc[condition])"
   ]
  },
  {
   "cell_type": "markdown",
   "metadata": {},
   "source": [
    "5. PRINT EMPLOYEE COUNT BY BUSINESS UNIT WITH 6 FIGURE SALARY AND AGE LESS THAN 30"
   ]
  },
  {
   "cell_type": "code",
   "execution_count": 75,
   "metadata": {},
   "outputs": [
    {
     "name": "stdout",
     "output_type": "stream",
     "text": [
      "            Business Unit  Count\n",
      "0               Corporate     18\n",
      "1           Manufacturing     11\n",
      "2  Research & Development     13\n",
      "3     Speciality Products     17\n"
     ]
    }
   ],
   "source": [
    "condition = (df['Annual Salary']>100000)&(df['Age']<30)\n",
    "print(df.loc[condition].groupby('Business Unit')['Annual Salary'].count().reset_index(name='Count'))"
   ]
  }
 ],
 "metadata": {
  "kernelspec": {
   "display_name": "Python 3.10.6 64-bit",
   "language": "python",
   "name": "python3"
  },
  "language_info": {
   "codemirror_mode": {
    "name": "ipython",
    "version": 3
   },
   "file_extension": ".py",
   "mimetype": "text/x-python",
   "name": "python",
   "nbconvert_exporter": "python",
   "pygments_lexer": "ipython3",
   "version": "3.10.6"
  },
  "orig_nbformat": 4,
  "vscode": {
   "interpreter": {
    "hash": "916dbcbb3f70747c44a77c7bcd40155683ae19c65e1c03b4aa3499c5328201f1"
   }
  }
 },
 "nbformat": 4,
 "nbformat_minor": 2
}
